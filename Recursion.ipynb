{
  "nbformat": 4,
  "nbformat_minor": 0,
  "metadata": {
    "colab": {
      "provenance": [],
      "authorship_tag": "ABX9TyOfZdcWeR4tVnXJGjmBkrMR",
      "include_colab_link": true
    },
    "kernelspec": {
      "name": "python3",
      "display_name": "Python 3"
    },
    "language_info": {
      "name": "python"
    }
  },
  "cells": [
    {
      "cell_type": "markdown",
      "metadata": {
        "id": "view-in-github",
        "colab_type": "text"
      },
      "source": [
        "<a href=\"https://colab.research.google.com/github/H-Ali63/DSA_Problems/blob/main/Recursion.ipynb\" target=\"_parent\"><img src=\"https://colab.research.google.com/assets/colab-badge.svg\" alt=\"Open In Colab\"/></a>"
      ]
    },
    {
      "cell_type": "code",
      "execution_count": null,
      "metadata": {
        "colab": {
          "base_uri": "https://localhost:8080/"
        },
        "id": "X-Iu0H_TkSw0",
        "outputId": "3cd84866-aa2a-47a0-97ec-702e0f207cfe"
      },
      "outputs": [
        {
          "output_type": "execute_result",
          "data": {
            "text/plain": [
              "120"
            ]
          },
          "metadata": {},
          "execution_count": 8
        }
      ],
      "source": [
        "# Factorial Calculation\n",
        "\n",
        "\n",
        "def recursions(n):\n",
        "\n",
        "  if n == 0: # here is base case\n",
        "\n",
        "    return 1\n",
        "\n",
        "  else:      # recursive case\n",
        "\n",
        "    return n * recursions(n-1)\n",
        "\n",
        "recursions(5)"
      ]
    },
    {
      "cell_type": "code",
      "source": [
        "# Fibonacci series\n",
        "\n",
        "# Recursion function\n",
        "def Fibonacci(n):\n",
        "\n",
        "  # if n == 0:\n",
        "\n",
        "  #   return 0\n",
        "\n",
        "  # elif n == 1:\n",
        "\n",
        "  #   return 1\n",
        "\n",
        "  if (n == 0 or n == 1):\n",
        "\n",
        "    return n\n",
        "\n",
        "  else:\n",
        "\n",
        "    return Fibonacci(n-1) + Fibonacci(n-2)\n",
        "\n",
        "print(Fibonacci(10))\n",
        "\n",
        "\n",
        "# iterative function\n",
        "def Fibonacci_iterative(n):\n",
        "  f0 = 0\n",
        "  f1 = 1\n",
        "  for i in range(1, n):\n",
        "    f2 = f0\n",
        "    f0 = f1\n",
        "    f1 = f2 + f0\n",
        "  return f1\n",
        "print(Fibonacci_iterative(10))\n",
        "\n",
        "# TC = O(2^n)\n",
        "# SC = O(n)"
      ],
      "metadata": {
        "colab": {
          "base_uri": "https://localhost:8080/"
        },
        "id": "ZNb0x86XsCP6",
        "outputId": "30c53d3b-b215-42f4-af79-a4e578f16081"
      },
      "execution_count": null,
      "outputs": [
        {
          "output_type": "stream",
          "name": "stdout",
          "text": [
            "55\n",
            "55\n"
          ]
        }
      ]
    },
    {
      "cell_type": "code",
      "source": [
        "# Sum of N numbers using recursion\n",
        "\n",
        "def sumof(n):\n",
        "  if n == 0:\n",
        "    return 0\n",
        "  else:\n",
        "    return n + sumof(n-1)\n",
        "\n",
        "print(sumof(50))\n",
        "\n",
        "\n",
        "# TC = O(n)"
      ],
      "metadata": {
        "colab": {
          "base_uri": "https://localhost:8080/"
        },
        "id": "GmyXbmGTsYQo",
        "outputId": "02f7f362-9f27-41e7-ca1c-6f3904a6bb68"
      },
      "execution_count": null,
      "outputs": [
        {
          "output_type": "stream",
          "name": "stdout",
          "text": [
            "1275\n"
          ]
        }
      ]
    },
    {
      "cell_type": "code",
      "source": [
        "# Check if the array is in sorted order or not using recursive function\n",
        "\n",
        "def is_sorted(arr, n):\n",
        "    # Base cases: 0 or 1 element is always sorted\n",
        "    if n == 0 or n == 1:\n",
        "        return True\n",
        "    # Check last two elements and recurse\n",
        "    # if arr[n-1] < arr[n-2]:\n",
        "    #     return False\n",
        "    # return is_sorted(arr, n-1)\n",
        "\n",
        "    if arr[n-1] >= arr[n-2] and is_sorted(arr, n-1):\n",
        "        return True\n",
        "    else:\n",
        "        return False\n",
        "arr = [12, 34, 56, 67, 79, 98, 99]\n",
        "print(is_sorted(arr, len(arr)))\n",
        "\n",
        "\n",
        "# TC = O(n)\n",
        "# SC = O(n)"
      ],
      "metadata": {
        "colab": {
          "base_uri": "https://localhost:8080/"
        },
        "id": "ITeYjHjbPRHw",
        "outputId": "c2b75980-1fb6-45d3-9208-18b69bf6b0e6"
      },
      "execution_count": null,
      "outputs": [
        {
          "output_type": "stream",
          "name": "stdout",
          "text": [
            "True\n"
          ]
        }
      ]
    },
    {
      "cell_type": "code",
      "source": [
        "# Find the target variable from a given array using recursion\n",
        "\n",
        "def find_target(arr, target, start, end):\n",
        "\n",
        "    mid = (start + end) // 2\n",
        "    if start <= end:\n",
        "      if  arr[mid] == target:\n",
        "          return mid\n",
        "      elif arr[mid] < target:\n",
        "          return find_target(arr, target, mid + 1, end)\n",
        "      else:\n",
        "          return find_target(arr, target, start, mid - 1)\n",
        "    return -1\n",
        "arr = [2,4,6,7,8,9]\n",
        "start = 0\n",
        "end = len(arr) - 1\n",
        "target = 9\n",
        "print(find_target(arr, target, start, end))\n",
        "\n",
        "\n",
        "# Tc = O(logn)\n",
        "# SC = O(logn)"
      ],
      "metadata": {
        "colab": {
          "base_uri": "https://localhost:8080/"
        },
        "id": "cHwkeju2bZRg",
        "outputId": "3399d307-d122-46ad-a8b7-d8425c8dff39"
      },
      "execution_count": null,
      "outputs": [
        {
          "output_type": "stream",
          "name": "stdout",
          "text": [
            "5\n"
          ]
        }
      ]
    },
    {
      "cell_type": "code",
      "source": [
        "# Write the code to find the subsets of given array using recursions and backtracking\n",
        "\n",
        "\n",
        ""
      ],
      "metadata": {
        "id": "KbK6CBDeti8y"
      },
      "execution_count": null,
      "outputs": []
    },
    {
      "cell_type": "code",
      "metadata": {
        "colab": {
          "base_uri": "https://localhost:8080/"
        },
        "id": "51301f32",
        "outputId": "79dbbfb5-9dda-41e6-e5e7-5111afa0f893"
      },
      "source": [
        "def find_subsets(arr):\n",
        "    subsets = []\n",
        "    def backtrack(index, current_subset):\n",
        "        # Add the current subset to the results\n",
        "        subsets.append(list(current_subset))\n",
        "\n",
        "        # Explore further subsets by including the current element\n",
        "        for i in range(index, len(arr)):\n",
        "            current_subset.append(arr[i])\n",
        "            backtrack(i + 1, current_subset)\n",
        "            # Backtrack: remove the last added element to explore other subsets\n",
        "            current_subset.pop()\n",
        "\n",
        "    backtrack(0, [])\n",
        "    return subsets\n",
        "\n",
        "arr = [1, 2, 3]\n",
        "result = find_subsets(arr)\n",
        "print(result)\n",
        "\n",
        "# TC = O(2^n * n) - 2^n subsets and n time to copy each subset\n",
        "# SC = O(n) - recursion depth"
      ],
      "execution_count": 13,
      "outputs": [
        {
          "output_type": "stream",
          "name": "stdout",
          "text": [
            "[[], [1], [1, 2], [1, 2, 3], [1, 3], [2], [2, 3], [3]]\n"
          ]
        }
      ]
    }
  ]
}